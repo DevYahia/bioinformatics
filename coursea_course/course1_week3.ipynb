{
 "cells": [
  {
   "cell_type": "code",
   "execution_count": 1,
   "metadata": {
    "collapsed": true
   },
   "outputs": [],
   "source": [
    "import importlib\n",
    "\n",
    "import coursea_course.helper.course1_week2 as c1w2\n",
    "import coursea_course.helper.course1_week3 as c1w3"
   ]
  },
  {
   "cell_type": "code",
   "execution_count": 39,
   "outputs": [
    {
     "data": {
      "text/plain": "<module 'coursea_course.helper.course1_week3' from '/Users/yahiasalem/Desktop/Bioinformatics/Bioinformatics/coursea_course/helper/course1_week3.py'>"
     },
     "execution_count": 39,
     "metadata": {},
     "output_type": "execute_result"
    }
   ],
   "source": [
    "importlib.reload(c1w3)"
   ],
   "metadata": {
    "collapsed": false
   }
  },
  {
   "cell_type": "markdown",
   "source": [
    "The ten candidate NF-κB binding sites appearing in the Drosophila melanogaster genome."
   ],
   "metadata": {
    "collapsed": false
   }
  },
  {
   "cell_type": "code",
   "execution_count": 49,
   "outputs": [],
   "source": [
    "motifs = [\n",
    "    \"TCGGGGGTTTTT\",\n",
    "    \"CCGGTGACTTAC\",\n",
    "    \"ACGGGGATTTTC\",\n",
    "    \"TTGGGGACTTTT\",\n",
    "    \"AAGGGGACTTCC\",\n",
    "    \"TTGGGGACTTCC\",\n",
    "    \"TCGGGGATTCAT\",\n",
    "    \"TCGGGGATTCCT\",\n",
    "    \"TAGGGGAACTAC\",\n",
    "    \"TCGGGTATAACC\"\n",
    "]\n",
    "_genome0 = \"\".join(motifs)"
   ],
   "metadata": {
    "collapsed": false
   }
  },
  {
   "cell_type": "code",
   "execution_count": 17,
   "outputs": [
    {
     "data": {
      "text/plain": "['TGGGGGATTTCC']"
     },
     "execution_count": 17,
     "metadata": {},
     "output_type": "execute_result"
    }
   ],
   "source": [
    "c1w2.frequent_words_with_mismatches(_genome0, 12, 4)"
   ],
   "metadata": {
    "collapsed": false
   }
  },
  {
   "cell_type": "code",
   "execution_count": 19,
   "outputs": [],
   "source": [
    "hide_and_seek = [\n",
    "    \"atgaccgggatactgatAAAAAAAAGGGGGGGggcgtacacattagataaacgtatgaagtacgttagactcggcgccgccg\",\n",
    "    \"acccctattttttgagcagatttagtgacctggaaaaaaaatttgagtacaaaacttttccgaataAAAAAAAAGGGGGGGa\",\n",
    "    \"tgagtatccctgggatgacttAAAAAAAAGGGGGGGtgctctcccgatttttgaatatgtaggatcattcgccagggtccga\",\n",
    "    \"gctgagaattggatgAAAAAAAAGGGGGGGtccacgcaatcgcgaaccaacgcggacccaaaggcaagaccgataaaggaga\",\n",
    "    \"tcccttttgcggtaatgtgccgggaggctggttacgtagggaagccctaacggacttaatAAAAAAAAGGGGGGGcttatag\",\n",
    "    \"gtcaatcatgttcttgtgaatggatttAAAAAAAAGGGGGGGgaccgcttggcgcacccaaattcagtgtgggcgagcgcaa\",\n",
    "    \"cggttttggcccttgttagaggcccccgtAAAAAAAAGGGGGGGcaattatgagagagctaatctatcgcgtgcgtgttcat\",\n",
    "    \"aacttgagttAAAAAAAAGGGGGGGctggggcacatacaagaggagtcttccttatcagttaatgctgtatgacactatgta\",\n",
    "    \"ttggcccattggctaaaagcccaacttgacaaatggaagatagaatccttgcatAAAAAAAAGGGGGGGaccgaaagggaag\",\n",
    "    \"ctggtgagcaacgacagattcttacgtgcattagctcgcttccggggatctaatagcacgaagcttAAAAAAAAGGGGGGGa\"\n",
    "]\n",
    "_genome1 = \"\".join(hide_and_seek).upper()"
   ],
   "metadata": {
    "collapsed": false
   }
  },
  {
   "cell_type": "code",
   "execution_count": 20,
   "outputs": [
    {
     "data": {
      "text/plain": "['AAAAAAAAGGGGGGG']"
     },
     "execution_count": 20,
     "metadata": {},
     "output_type": "execute_result"
    }
   ],
   "source": [
    "c1w2.frequent_words_with_mismatches(_genome1, 15, 0)"
   ],
   "metadata": {
    "collapsed": false
   }
  },
  {
   "cell_type": "markdown",
   "source": [
    "The frequent_words_with_mismatches(genome, k, d) function won't work below for two main reasons:\n",
    "1. It's inefficient, works for small k and d\n",
    "2. Does not represent the underlying biological problem accurately; since the motifs are far apart from each other (i.e. we can't just concatenate the strands and call it a day, the junction regions must not be searched in)\n",
    "\n",
    "N.B. the code below ran for 5 minutes straight, and it still did not yield a result. I'll just leave it for the sake of recording my progress in this long journey."
   ],
   "metadata": {
    "collapsed": false
   }
  },
  {
   "cell_type": "code",
   "execution_count": 18,
   "outputs": [],
   "source": [
    "hide_and_seek_with_mutations = [\n",
    "    \"atgaccgggatactgatAgAAgAAAGGttGGGggcgtacacattagataaacgtatgaagtacgttagactcggcgccgccg\",\n",
    "    \"acccctattttttgagcagatttagtgacctggaaaaaaaatttgagtacaaaacttttccgaatacAAtAAAAcGGcGGGa\",\n",
    "    \"tgagtatccctgggatgacttAAAAtAAtGGaGtGGtgctctcccgatttttgaatatgtaggatcattcgccagggtccga\",\n",
    "    \"gctgagaattggatgcAAAAAAAGGGattGtccacgcaatcgcgaaccaacgcggacccaaaggcaagaccgataaaggaga\",\n",
    "    \"tcccttttgcggtaatgtgccgggaggctggttacgtagggaagccctaacggacttaatAtAAtAAAGGaaGGGcttatag\",\n",
    "    \"gtcaatcatgttcttgtgaatggatttAAcAAtAAGGGctGGgaccgcttggcgcacccaaattcagtgtgggcgagcgcaa\",\n",
    "    \"cggttttggcccttgttagaggcccccgtAtAAAcAAGGaGGGccaattatgagagagctaatctatcgcgtgcgtgttcat\",\n",
    "    \"aacttgagttAAAAAAtAGGGaGccctggggcacatacaagaggagtcttccttatcagttaatgctgtatgacactatgta\",\n",
    "    \"ttggcccattggctaaaagcccaacttgacaaatggaagatagaatccttgcatActAAAAAGGaGcGGaccgaaagggaag\",\n",
    "    \"ctggtgagcaacgacagattcttacgtgcattagctcgcttccggggatctaatagcacgaagcttActAAAAAGGaGcGGa\"\n",
    "]\n",
    "_genome2 = \"\".join(hide_and_seek_with_mutations).upper()"
   ],
   "metadata": {
    "collapsed": false
   }
  },
  {
   "cell_type": "code",
   "execution_count": null,
   "outputs": [],
   "source": [
    "c1w2.frequent_words_with_mismatches(_genome2, 15, 4)"
   ],
   "metadata": {
    "collapsed": false
   }
  },
  {
   "cell_type": "markdown",
   "source": [
    "Sample input to (1.2 Motif Finding Is More Difficult Than You Think)"
   ],
   "metadata": {
    "collapsed": false
   }
  },
  {
   "cell_type": "code",
   "execution_count": 23,
   "outputs": [
    {
     "data": {
      "text/plain": "{'ATA', 'ATT', 'GTT', 'TTT'}"
     },
     "execution_count": 23,
     "metadata": {},
     "output_type": "execute_result"
    }
   ],
   "source": [
    "c1w3.motif_enumeration(\n",
    "    [\"ATTTGGC\", \"TGCCTTA\", \"CGGTATC\", \"GAAAATT\"],\n",
    "    3, 1\n",
    ")"
   ],
   "metadata": {
    "collapsed": false
   }
  },
  {
   "cell_type": "code",
   "execution_count": 25,
   "outputs": [
    {
     "name": "stdout",
     "output_type": "stream",
     "text": [
      "CACGG AGTGG TCCAC TTGGC GGTGG TCCGG CTGGA AGTCA GGCGG AACGT TTCCT CAAGG TACGA AGGAC TATCG GTATC CGTCA CCTGC TTCAC TTAGT CTTAG CATAC CGACC CTTAC TTTCA TCTGC TATAC CATGG GTCGC TGACC GCTTA TCTCG AGCAT CCCCT CTGCG ACGTA TGGGC CGATC ATAAC CATTC ATACT AGCCA ACGCA TCCCC TTTCC GCAGT TCCGT ACCTG GTCAC TAAGC TGCAT CACTC GATTC ACTTG CCATT TAAGA CATCC GTACC AACCA CATGT ACGTC ACATG TTGAC CTCCT GTAAC CATTG GGACG AACGG CGGCG GGCTA GAACG GTCAA CAGCG TCATC TCGGT ATATC CGGGG CGATT CACGT TTTGC CGTCG TCTCA CGGTG TTCCC CCGTA TCTAA GGTAT TTCCG GCACG ACCAG ATTAT CCGAG GTAGC TATCA AAGCG TGTGC CTCAC AGTCG GAGCG TACAT TGCCC TCTGT GCCTT GCGAT TGGCT CTTCT GCAGG TGATA CGTTC GAATT TTGCG TAATC GCTCA TCAAG ATTAC ACCCG TGGTA TCGAT CAAGA TTATA ATTGG CGCAG CTTAT TAAGT TTCTA GCCAT TCATT AATAC ACGAC GACCT CCTCT AATCG TACCA ATGAC ATGAA CGTAT GCACT TCATG GATAT CGCAC ATTCA ATGGC GCTGC TTCAT CAACG CAGTA GGCTG TATCC CGTTT TAACA GCGAG CCAGT CCGAT CGAAC TTCCA TAGAT CAGCA TCACC TACGC CTAAC CGAGG CGCAT CTGGC TCGTG AGTAT GAGCC GGTAA AGATC TAGCC TCCAG GCACC CTTCG GCGTG CTCAT TACTC CTGGT GACCA CGGAC TAAAA TCAGC ATCGC GAGTC AATGA AACGC GATTA GTCTT TAATA GTATT AACCG TTCAG GAGGT TCCGC GCGCA AATCT CTCCA GACTT GCTTC ATAAG AGACG ACGAG CATGA TTGAG GACCG TCAGG TCTTA GCTTG TAGGC GCAAG TCCAT TGAGA ACCGA ATGCG CTACG CGCTG CTCGC TGCTC CGTTG TCCGA CGTGA ATTCG TTCAA ATCAC CCACC TGTAT GCCTC CTGAT CCTCA TTACG CCAGC ATTAG GGTGC TGACT AGGTG CGGCT CCACG CTTGG GGCGC CGAAG CTTAA CTTCA GCCAC GAAGC GTCGA GTCCA TCGAC AATTA TCGGC CTCTT TTGCA CTCCG TCTCC TCCTC GGTCA TGGCC TGACA GTGGC AAGCA TCGTA TAACG GGCGT CTCAG GCATG CGTAC TCCTA CAATC CACCT AAGTG CTTCC TCAAC GTCGG TCCCT CTTTA TTTTC CAGCC TCCCA ATACG AGATT CGTTA CGTGC CCGCT TAGCT GTTCG AGGCG TGCGT TAAAC GACGG ATCGG TTAAA CAACT CACTG CCGAC ACGTT TATAA GATCA TACGG GGTTA CATTT TATTA ATCTA GGGGC ACCGG CCTAT TCTCT TGCCG GCCGA GTGCC CATTA CACCA CACCC AAACG ACTCG CTGTC GATAC CTGTG ACCAT ACGAT TCGCT GCTAT CCTTA CCGCA TTAGC GCTTT GATGT GATGC ACCAA TCAGT ACTGG TCACG CGCTT TACAG AGCCT ATCCG GCATC TGACG CAGGT CCGAA CTAAT AGTGC TCTTC CGTCT CAGAG CAAGC TTCGC AACAA ATCCA ACAGC GTCTC ATCGA GACGA TTGTC GTTAT TTTGA TACCC TGGTC TTCGA TTTAC CAGTG GCGTT GACGT ACCAC TCGTC CGTGT TTAAG TGCGC AGCCG CGCCT CGCGT ACCTC GGAGC GGGCG CGGAT GGATT GTGCA GTGAC GCGTA GGCGA ATGCC TATGC TGCAC CGAGT CAGTT TTACA GCGAA CCTCG TTAGG TTCGT ATACC GCAGC CGGAG ATCGT GTTCA GTTTC TCACT AGCAC CATCT TAGCG TTACC GCTGG GTCAT GCTGA TTCGG GCATT GAGCA CTATC TGGCA CTCGG GCGGA GCAGA CGACG AGCGT CGATG GTTGC ATTGC GGTAG TCGGG TAGTA GACTG CCTGG CAGCT TTTGT CACCG AAGAC TTCTC ATCTT TTGCT CGGGA TCGCC CCTTC ATACA ATCTC TCGCA GTGCG AGGTC TGCAA GTGGT CGTAA ACTTC GATCG TCATA TGGCG CTTGC TGCCT CGTAG CTGCC ATCCC ATATG GCAAT ATAGC CTAGC CGAGC CCGGA TGTCG ATCTG GATCT GCGTC ATGTG TTATC TTAAC CCCTG TTTAG GGCAG ATTAA GACTA TGCCA CCCAT CTGCA CGCGA CTCTC CAGGA TTGCC GCCTG CCATC GAGGC TGGAC CGTGG TCACA TCGCG CCGTG GGGTA TATCT TACGT GCGAC CCTAC GTTAG\n"
     ]
    }
   ],
   "source": [
    "with open(\"res/datasets/dataset_156_8.txt\") as f:\n",
    "    lines = f.readlines()\n",
    "    _k, _d = lines[0].replace(\"\\n\", \"\").split()\n",
    "    _dna = lines[1].replace(\"\\n\", \"\").split()\n",
    "\n",
    "    print(*c1w3.motif_enumeration(_dna, int(_k), int(_d)))"
   ],
   "metadata": {
    "collapsed": false
   }
  },
  {
   "cell_type": "code",
   "execution_count": 66,
   "outputs": [
    {
     "name": "stdout",
     "output_type": "stream",
     "text": [
      "9.916290005356972\n"
     ]
    }
   ],
   "source": [
    "importlib.reload(c1w3)\n",
    "print(c1w3.matrix_entropy(motifs))"
   ],
   "metadata": {
    "collapsed": false
   }
  },
  {
   "cell_type": "code",
   "execution_count": 71,
   "outputs": [
    {
     "name": "stdout",
     "output_type": "stream",
     "text": [
      "GAC\n"
     ]
    }
   ],
   "source": [
    "importlib.reload(c1w3)\n",
    "print(c1w3.median_string([\n",
    "    \"AAATTGACGCAT\",\n",
    "    \"GACGACCACGTT\",\n",
    "    \"CGTCAGCGCCTG\",\n",
    "    \"GCTGAGCACCGG\",\n",
    "    \"AGTTCGGGACAG\",\n",
    "],\n",
    "    3\n",
    "))"
   ],
   "metadata": {
    "collapsed": false
   }
  },
  {
   "cell_type": "code",
   "execution_count": 75,
   "outputs": [
    {
     "name": "stdout",
     "output_type": "stream",
     "text": [
      "CCATAG\n"
     ]
    }
   ],
   "source": [
    "with open(\"res/datasets/dataset_158_9.txt\") as f:\n",
    "    lines = f.readlines()\n",
    "    _k = lines[0].replace(\"\\n\", \"\")\n",
    "    _dna = lines[1].replace(\"\\n\", \"\").split()\n",
    "\n",
    "    print(c1w3.median_string(_dna, int(_k)))"
   ],
   "metadata": {
    "collapsed": false
   }
  },
  {
   "cell_type": "code",
   "execution_count": 111,
   "outputs": [
    {
     "data": {
      "text/plain": "'CCGAG'"
     },
     "execution_count": 111,
     "metadata": {},
     "output_type": "execute_result"
    }
   ],
   "source": [
    "importlib.reload(c1w3)\n",
    "c1w3.profile_most_probable_kmer(\n",
    "    \"ACCTGTTTATTGCCTAAGTTCCGAACAAACCCAATATAGCCCGAGGGCCT\",\n",
    "    5,\n",
    "    [\n",
    "        [.2, .2, .3, .2, .3],\n",
    "        [.4, .3, .1, .5, .1],\n",
    "        [.3, .3, .5, .2, .4],\n",
    "        [.1, .2, .1, .1, .2]\n",
    "    ]\n",
    ")"
   ],
   "metadata": {
    "collapsed": false
   }
  },
  {
   "cell_type": "code",
   "execution_count": 88,
   "outputs": [
    {
     "name": "stdout",
     "output_type": "stream",
     "text": [
      "TCTACGAATGGC\n"
     ]
    }
   ],
   "source": [
    "importlib.reload(c1w3)\n",
    "with open(\"res/datasets/dataset_159_3.txt\") as f:\n",
    "    lines = f.readlines()\n",
    "    _dna = lines[0].replace(\"\\n\", \"\")\n",
    "    _k = int(lines[1].replace(\"\\n\", \"\"))\n",
    "    _profile = [[float(x) for x in line.split()] for line in lines[2:]]\n",
    "\n",
    "    print(c1w3.profile_most_probable_kmer(_dna, _k, _profile))"
   ],
   "metadata": {
    "collapsed": false
   }
  },
  {
   "cell_type": "code",
   "execution_count": 134,
   "outputs": [
    {
     "data": {
      "text/plain": "['TTC', 'ATC', 'TTC', 'ATC', 'TTC']"
     },
     "execution_count": 134,
     "metadata": {},
     "output_type": "execute_result"
    }
   ],
   "source": [
    "importlib.reload(c1w3)\n",
    "c1w3.greedy_motif_search(\n",
    "    [\n",
    "        \"GGCGTTCAGGCA\",\n",
    "        \"AAGAATCAGTCA\",\n",
    "        \"CAAGGAGTTCGC\",\n",
    "        \"CACGTCAATCAC\",\n",
    "        \"CAATAATATTCG\",\n",
    "    ],\n",
    "    3, 5\n",
    ")"
   ],
   "metadata": {
    "collapsed": false
   }
  },
  {
   "cell_type": "code",
   "execution_count": 102,
   "outputs": [
    {
     "data": {
      "text/plain": "array([1, 1, 2, 1, 2])"
     },
     "execution_count": 102,
     "metadata": {},
     "output_type": "execute_result"
    }
   ],
   "source": [
    "import numpy as np\n",
    "\n",
    "np_profile = np.array([\n",
    "    [.2, .2, .3, .2, .3],\n",
    "    [.4, .3, .1, .5, .1],\n",
    "    [.3, .3, .5, .2, .4],\n",
    "    [.1, .2, .1, .1, .2]\n",
    "])\n",
    "\n",
    "np_profile.argmax(axis=0)"
   ],
   "metadata": {
    "collapsed": false
   }
  },
  {
   "cell_type": "code",
   "execution_count": 115,
   "outputs": [
    {
     "data": {
      "text/plain": "'GAGGCGAAATCGAATACCGATAAAGGCGCCGACAAATATT'"
     },
     "execution_count": 115,
     "metadata": {},
     "output_type": "execute_result"
    }
   ],
   "source": [
    "c1w3.find_consensus(\n",
    "    [\n",
    "        \"GAGGCGCACATCATTATCGATAACGATTCGCCGCATTGCC\",\n",
    "        \"TCATCGAATCCGATAACTGACACCTGCTCTGGCACCGCTC\",\n",
    "        \"TCGGCGGTATAGCCAGAAAGCGTAGTGCCAATAATTTCCT\",\n",
    "        \"GAGTCGTGGTGAAGTGTGGGTTATGGGGAAAGGCAGACTG\",\n",
    "        \"GACGGCAACTACGGTTACAACGCAGCAACCGAAGAATATT\",\n",
    "        \"TCTGTTGTTGCTAACACCGTTAAAGGCGGCGACGGCAACT\",\n",
    "        \"AAGCGGCCAACGTAGGCGCGGCTTGGCATCTCGGTGTGTG\",\n",
    "        \"AATTGAAAGGCGCATCTTACTCTTTTCGCTTTCAAAAAAA\",\n",
    "    ],\n",
    ")"
   ],
   "metadata": {
    "collapsed": false
   }
  },
  {
   "cell_type": "code",
   "execution_count": 117,
   "outputs": [
    {
     "data": {
      "text/plain": "30"
     },
     "execution_count": 117,
     "metadata": {},
     "output_type": "execute_result"
    }
   ],
   "source": [
    "c1w3.score(motifs)"
   ],
   "metadata": {
    "collapsed": false
   }
  },
  {
   "cell_type": "code",
   "execution_count": 120,
   "outputs": [
    {
     "data": {
      "text/plain": "[[0.2, 0.2, 0.0, 0.0, 0.0, 0.0, 0.9, 0.1, 0.1, 0.1, 0.3, 0.0],\n [0.1, 0.6, 0.0, 0.0, 0.0, 0.0, 0.0, 0.4, 0.1, 0.2, 0.4, 0.6],\n [0.0, 0.0, 1.0, 1.0, 0.9, 0.9, 0.1, 0.0, 0.0, 0.0, 0.0, 0.0],\n [0.7, 0.2, 0.0, 0.0, 0.1, 0.1, 0.0, 0.5, 0.8, 0.7, 0.3, 0.4]]"
     },
     "execution_count": 120,
     "metadata": {},
     "output_type": "execute_result"
    }
   ],
   "source": [
    "c1w3.Profile(motifs)"
   ],
   "metadata": {
    "collapsed": false
   }
  },
  {
   "cell_type": "code",
   "execution_count": 135,
   "outputs": [
    {
     "name": "stdout",
     "output_type": "stream",
     "text": [
      "GTTTGGGGCAGC GTATGTGGCAGG GTCTGAGCCAGG GTCTGCGTCAGT GTCTGCGTCAGA GTTTGTGTCAGC GTCTGGGCCAGA GTGTGGGTCAGG GTATGAGTCAGG GTTTGTGTCAGC GTATGCGACAGC GTGTGCGCCAGG GTGTGTGGCAGT GTGTGCGTCAGG GTTTGAGTCAGT GTGTGGGCCAGT GTATGGGACAGT GTCTGAGACAGC GTTTGGGCCAGC GTGTGTGGCAGT GTTTGTGCCAGG GTTTGGGGCAGG GTGTGGGGCAGG GTCTGAGGCAGC GTGTGAGGCAGC\n"
     ]
    }
   ],
   "source": [
    "importlib.reload(c1w3)\n",
    "with open(\"res/datasets/dataset_160_9.txt\") as f:\n",
    "    lines = f.readlines()\n",
    "    _k, _t = [int(x) for x in lines[0].split()]\n",
    "    _dna = lines[1].split()\n",
    "\n",
    "    print(*c1w3.greedy_motif_search(_dna, _k, _t))"
   ],
   "metadata": {
    "collapsed": false
   }
  },
  {
   "cell_type": "code",
   "execution_count": 133,
   "outputs": [
    {
     "data": {
      "text/plain": "['ACCT', 'ATGT', 'ACGG', 'ACGA', 'AGGT']"
     },
     "execution_count": 133,
     "metadata": {},
     "output_type": "execute_result"
    }
   ],
   "source": [
    "importlib.reload(c1w3)\n",
    "c1w3.greedy_motif_search(\n",
    "    [\n",
    "        \"TTACCTTAAC\",\n",
    "        \"GATGTCTGTC\",\n",
    "        \"ACGGCGTTAG\",\n",
    "        \"CCCTAACGAG\",\n",
    "        \"CGTCAGAGGT\",\n",
    "    ],\n",
    "    4, 5\n",
    ")"
   ],
   "metadata": {
    "collapsed": false
   }
  },
  {
   "cell_type": "code",
   "execution_count": 2,
   "outputs": [
    {
     "data": {
      "text/plain": "5"
     },
     "execution_count": 2,
     "metadata": {},
     "output_type": "execute_result"
    }
   ],
   "source": [
    "c1w3.distance_between_pattern_and_strings(\n",
    "    \"AAA\",\n",
    "    [\n",
    "        \"TTACCTTAAC\",\n",
    "        \"GATATCTGTC\",\n",
    "        \"ACGGCGTTCG\",\n",
    "        \"CCCTAAAGAG\",\n",
    "        \"CGTCAGAGGT\",\n",
    "    ]\n",
    ")"
   ],
   "metadata": {
    "collapsed": false
   }
  },
  {
   "cell_type": "code",
   "execution_count": 10,
   "outputs": [
    {
     "name": "stdout",
     "output_type": "stream",
     "text": [
      "65\n"
     ]
    }
   ],
   "source": [
    "importlib.reload(c1w3)\n",
    "with open(\"res/datasets/dataset_5164_1.txt\") as f:\n",
    "    lines = f.readlines()\n",
    "    _pattern = lines[0].strip()\n",
    "    _dna = [x for x in lines[1].split()]\n",
    "\n",
    "    print(c1w3.distance_between_pattern_and_strings(_pattern, _dna))"
   ],
   "metadata": {
    "collapsed": false
   }
  },
  {
   "cell_type": "code",
   "execution_count": 25,
   "outputs": [
    {
     "name": "stdout",
     "output_type": "stream",
     "text": [
      "['AAAA', 'AAAC', 'AAAG', 'AAAT', 'AACA', 'AACC', 'AACG', 'AACT', 'AAGA', 'AAGC', 'AAGG', 'AAGT', 'AATA', 'AATC', 'AATG', 'AATT', 'ACAA', 'ACAC', 'ACAG', 'ACAT', 'ACCA', 'ACCC', 'ACCG', 'ACCT', 'ACGA', 'ACGC', 'ACGG', 'ACGT', 'ACTA', 'ACTC', 'ACTG', 'ACTT', 'AGAA', 'AGAC', 'AGAG', 'AGAT', 'AGCA', 'AGCC', 'AGCG', 'AGCT', 'AGGA', 'AGGC', 'AGGG', 'AGGT', 'AGTA', 'AGTC', 'AGTG', 'AGTT', 'ATAA', 'ATAC', 'ATAG', 'ATAT', 'ATCA', 'ATCC', 'ATCG', 'ATCT', 'ATGA', 'ATGC', 'ATGG', 'ATGT', 'ATTA', 'ATTC', 'ATTG', 'ATTT', 'CAAA', 'CAAC', 'CAAG', 'CAAT', 'CACA', 'CACC', 'CACG', 'CACT', 'CAGA', 'CAGC', 'CAGG', 'CAGT', 'CATA', 'CATC', 'CATG', 'CATT', 'CCAA', 'CCAC', 'CCAG', 'CCAT', 'CCCA', 'CCCC', 'CCCG', 'CCCT', 'CCGA', 'CCGC', 'CCGG', 'CCGT', 'CCTA', 'CCTC', 'CCTG', 'CCTT', 'CGAA', 'CGAC', 'CGAG', 'CGAT', 'CGCA', 'CGCC', 'CGCG', 'CGCT', 'CGGA', 'CGGC', 'CGGG', 'CGGT', 'CGTA', 'CGTC', 'CGTG', 'CGTT', 'CTAA', 'CTAC', 'CTAG', 'CTAT', 'CTCA', 'CTCC', 'CTCG', 'CTCT', 'CTGA', 'CTGC', 'CTGG', 'CTGT', 'CTTA', 'CTTC', 'CTTG', 'CTTT', 'GAAA', 'GAAC', 'GAAG', 'GAAT', 'GACA', 'GACC', 'GACG', 'GACT', 'GAGA', 'GAGC', 'GAGG', 'GAGT', 'GATA', 'GATC', 'GATG', 'GATT', 'GCAA', 'GCAC', 'GCAG', 'GCAT', 'GCCA', 'GCCC', 'GCCG', 'GCCT', 'GCGA', 'GCGC', 'GCGG', 'GCGT', 'GCTA', 'GCTC', 'GCTG', 'GCTT', 'GGAA', 'GGAC', 'GGAG', 'GGAT', 'GGCA', 'GGCC', 'GGCG', 'GGCT', 'GGGA', 'GGGC', 'GGGG', 'GGGT', 'GGTA', 'GGTC', 'GGTG', 'GGTT', 'GTAA', 'GTAC', 'GTAG', 'GTAT', 'GTCA', 'GTCC', 'GTCG', 'GTCT', 'GTGA', 'GTGC', 'GTGG', 'GTGT', 'GTTA', 'GTTC', 'GTTG', 'GTTT', 'TAAA', 'TAAC', 'TAAG', 'TAAT', 'TACA', 'TACC', 'TACG', 'TACT', 'TAGA', 'TAGC', 'TAGG', 'TAGT', 'TATA', 'TATC', 'TATG', 'TATT', 'TCAA', 'TCAC', 'TCAG', 'TCAT', 'TCCA', 'TCCC', 'TCCG', 'TCCT', 'TCGA', 'TCGC', 'TCGG', 'TCGT', 'TCTA', 'TCTC', 'TCTG', 'TCTT', 'TGAA', 'TGAC', 'TGAG', 'TGAT', 'TGCA', 'TGCC', 'TGCG', 'TGCT', 'TGGA', 'TGGC', 'TGGG', 'TGGT', 'TGTA', 'TGTC', 'TGTG', 'TGTT', 'TTAA', 'TTAC', 'TTAG', 'TTAT', 'TTCA', 'TTCC', 'TTCG', 'TTCT', 'TTGA', 'TTGC', 'TTGG', 'TTGT', 'TTTA', 'TTTC', 'TTTG', 'TTTT']\n"
     ]
    }
   ],
   "source": [
    "import itertools\n",
    "import functools\n",
    "\n",
    "print(list(map(lambda x: functools.reduce(lambda y1, y2: y1 + y2, x), itertools.product(\"ACGT\", repeat=4))))"
   ],
   "metadata": {
    "collapsed": false
   }
  }
 ],
 "metadata": {
  "kernelspec": {
   "display_name": "Python 3",
   "language": "python",
   "name": "python3"
  },
  "language_info": {
   "codemirror_mode": {
    "name": "ipython",
    "version": 2
   },
   "file_extension": ".py",
   "mimetype": "text/x-python",
   "name": "python",
   "nbconvert_exporter": "python",
   "pygments_lexer": "ipython2",
   "version": "2.7.6"
  }
 },
 "nbformat": 4,
 "nbformat_minor": 0
}
