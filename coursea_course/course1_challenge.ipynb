{
 "cells": [
  {
   "cell_type": "markdown",
   "source": [
    "Mycobacterium tuberculosis (MTB) can persist in a latent state in humans for many years before causing disease. Latency has been found to be linked to hypoxia (lack  of oxygen) in the host. You suspect that genes that are activated in  hypoxia are regulated by a common transcription factor, so you collect  the upstream sequences for all of the MTB genes that are upregulated in  hypoxia, looking for the motif that corresponds to the binding site for  the transcription factor regulating these genes. Your biologist  colleague tells you that you should look at the 250 bp upstream region  of each gene (which have been conveniently compiled for you in a FASTA file named upstream250.txt -- right click and download this file). Your colleague also tells you that the motif is probably about 20 bp long."
   ],
   "metadata": {
    "collapsed": false
   }
  },
  {
   "cell_type": "code",
   "execution_count": 28,
   "outputs": [],
   "source": [
    "import coursea_course.helper.course1_week3 as c1w3\n",
    "import coursea_course.helper.course1_week4 as c1w4\n",
    "\n",
    "from Bio import SeqIO"
   ],
   "metadata": {
    "collapsed": false
   }
  },
  {
   "cell_type": "code",
   "execution_count": 32,
   "outputs": [],
   "source": [
    "fasta_sequences = SeqIO.parse(open(\"res/datasets/upstream250.txt\"), 'fasta')\n",
    "sequences = [str(sequence.seq) for sequence in fasta_sequences]"
   ],
   "metadata": {
    "collapsed": false
   }
  },
  {
   "cell_type": "markdown",
   "source": [
    "Constants"
   ],
   "metadata": {
    "collapsed": false
   }
  },
  {
   "cell_type": "code",
   "execution_count": 34,
   "outputs": [],
   "source": [
    "t = len(sequences)\n",
    "k = 20\n",
    "n = len(sequences[0])"
   ],
   "metadata": {
    "collapsed": false
   }
  },
  {
   "cell_type": "markdown",
   "source": [
    "RandomMotifSearch"
   ],
   "metadata": {
    "collapsed": false
   }
  },
  {
   "cell_type": "code",
   "execution_count": 46,
   "outputs": [
    {
     "data": {
      "text/plain": "['CGTCCCCAGCCCCAAGGCCG',\n 'CGACCACCGCGCCGGAGCCC',\n 'GGGCTCCGGCGCGGTGGTCG',\n 'CCGCCGTTGGGCCGCGGACT',\n 'CCGCGGGCGGCCCGCACGCA',\n 'CCGCCGTTGCGCCGGGTGCG',\n 'ATGCGGCCGACGAGCGGGCG',\n 'CCACCACCGTAGCGCCGCCG',\n 'ACCGCCCATCGCCGCGGTCA',\n 'CGGCCCCACCCACGAGGCCG',\n 'CGTCCGCGACGACGCGTGCG',\n 'GCCCGGTCGCCACGCGGCGG',\n 'CCGTGGGTGGGCAGCCTCCA',\n 'CCGGCGCTTTGGCGAGGCCG',\n 'GCAGTGCCGGCCTGAGGGCC',\n 'ACACGGCGGGGCCGCGTGAG',\n 'CGACCACGTTGTCGAGGCCG',\n 'TCATCGCCGCATCGGTGGCA',\n 'ACCCCGCGTCGACGTGCCAG',\n 'TCTGTCCCTAGCCCTGGCCA',\n 'GGGCCATTTGTCCGCGCCCG',\n 'GCCGCGCGTCGGCGAGTCCT',\n 'CCGACACCTGCCCGAGCACG',\n 'GGTCCATCGACCCGCGGCCC',\n 'GCCCGGTCGCGCCGCGTCCA',\n 'ACGGGGCTTGGTCGCGGCCG',\n 'CTTCCGCGTCGTACTGGTCA',\n 'TGGGTGCCGTGCCGAAGGCG',\n 'CGTCGGCCTCGGCGTCGGCC',\n 'CGGTCACCATGTCGCGGGCA',\n 'ACGGCTCCTCGCAGCGGAGA',\n 'CCTCCGCTGGCGAGCCTTCG',\n 'TCGGGCCATCGCCGGCGGCA',\n 'CCGCCCCAGCGAAGGAGACG',\n 'CCGGCTTGTCGCAGCGGCCA',\n 'GCTCCGACGTGCCGGTGCCA']"
     },
     "execution_count": 46,
     "metadata": {},
     "output_type": "execute_result"
    }
   ],
   "source": [
    "motifs_random = c1w4.randomized_motif_search(sequences, k=k, t=t)\n",
    "motifs_random"
   ],
   "metadata": {
    "collapsed": false
   }
  },
  {
   "cell_type": "code",
   "execution_count": 47,
   "outputs": [
    {
     "name": "stdout",
     "output_type": "stream",
     "text": [
      "CCGCCGCCGCGCCGCGGCCG : 280\n"
     ]
    }
   ],
   "source": [
    "consensus_random = c1w3.find_consensus(motifs_random)\n",
    "score_random = c1w3.score(motifs_random)\n",
    "\n",
    "print(f\"{consensus_random} : {score_random}\")"
   ],
   "metadata": {
    "collapsed": false
   }
  },
  {
   "cell_type": "markdown",
   "source": [
    "GibbsSampler"
   ],
   "metadata": {
    "collapsed": false
   }
  },
  {
   "cell_type": "code",
   "execution_count": 48,
   "outputs": [
    {
     "data": {
      "text/plain": "['TTCGTGACCGACGTCCCCAG',\n 'CTGTCCGGGCGGGGCGCGGA',\n 'CTGGTCGCCACTGGAAAGGG',\n 'ATGCCGCCGTTGGGCCGCGG',\n 'GTGGTCGCGATCGAACCCGA',\n 'CTTTTGGCCACCGGCGCTGG',\n 'GTCGTGGTCACTGCGGAGGA',\n 'GCGGGCCCGGCCGCCATCGG',\n 'GAGGAGCACATGGCCGCCGA',\n 'CTGGTGACCACCGCCGACGG',\n 'CTGGGGACCGAAGTCCCCGG',\n 'CTGGCTGCCCCGGCTGACGG',\n 'ATCATCGGCCAGGGCGCCGG',\n 'GTGGTCGACAAGGTCGCCGA',\n 'GTGGTGCCCACCCGCGCGGA',\n 'GCGGCGGCCTTGGCCGCCCG',\n 'GTGGTAGCGCCGGTCGATGG',\n 'ACGTGGACCACGGTCAGCGG',\n 'GTCGGGTGAACCGCCCCGGT',\n 'GTGGTCACCATGGTGTCCGG',\n 'TCGGGGAAGAGGGACCGCGG',\n 'ATCGTGCCGCGCGTCGGCGA',\n 'TTGGTCGGAATCGTCACCGA',\n 'GAGGTGGCCTACGGCGAGGA',\n 'GAGGACGCCATCGGCCGCGA',\n 'GTGGCCACTGTCGAGACCGG',\n 'CTGGTCAGTCTCGACAGCGA',\n 'AGGGTCGCCACGGCTGGCGA',\n 'GTCGTCGGCCTCGGCGTCGG',\n 'CTGGGCAGCGTTGCACTCGG',\n 'CGCGCGTCGACAGCCGCGGT',\n 'ATGGTCAGCGCCTTCCCCGG',\n 'GATCGGGCCATCGCCGGCGG',\n 'GTGGGGACCAACGCCCCTGG',\n 'GTGATAACGCGCGGCGCCGG',\n 'GTGCCGGTGCCAGCCGCCGC']"
     },
     "execution_count": 48,
     "metadata": {},
     "output_type": "execute_result"
    }
   ],
   "source": [
    "motifs_gibbs = c1w4.gibbs_sampler(sequences, k=k, t=t, N=2000)\n",
    "motifs_gibbs"
   ],
   "metadata": {
    "collapsed": false
   }
  },
  {
   "cell_type": "code",
   "execution_count": 49,
   "outputs": [
    {
     "name": "stdout",
     "output_type": "stream",
     "text": [
      "GTGGTGGCCACCGCCGCCGG : 278\n"
     ]
    }
   ],
   "source": [
    "consensus_gibbs = c1w3.find_consensus(motifs_gibbs)\n",
    "score_gibbs = c1w3.score(motifs_gibbs)\n",
    "\n",
    "print(f\"{consensus_gibbs} : {score_gibbs}\")"
   ],
   "metadata": {
    "collapsed": false
   }
  }
 ],
 "metadata": {
  "kernelspec": {
   "name": "conda-kernel",
   "language": "python",
   "display_name": "conda-kernel"
  },
  "language_info": {
   "codemirror_mode": {
    "name": "ipython",
    "version": 2
   },
   "file_extension": ".py",
   "mimetype": "text/x-python",
   "name": "python",
   "nbconvert_exporter": "python",
   "pygments_lexer": "ipython2",
   "version": "2.7.6"
  }
 },
 "nbformat": 4,
 "nbformat_minor": 0
}
