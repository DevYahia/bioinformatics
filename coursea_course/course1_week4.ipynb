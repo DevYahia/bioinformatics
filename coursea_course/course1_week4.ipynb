{
 "cells": [
  {
   "cell_type": "code",
   "execution_count": 3,
   "metadata": {
    "collapsed": true
   },
   "outputs": [],
   "source": [
    "import coursea_course.helper.all_files as helper\n",
    "import coursea_course.helper.course1_week4 as c1w4\n",
    "import coursea_course.helper.course1_week3 as c1w3\n",
    "import importlib\n",
    "import time"
   ]
  },
  {
   "cell_type": "code",
   "execution_count": 4,
   "outputs": [
    {
     "data": {
      "text/plain": "<module 'coursea_course.helper.course1_week3' from '/Users/yahiasalem/Desktop/Bioinformatics/Bioinformatics/coursea_course/helper/course1_week3.py'>"
     },
     "execution_count": 4,
     "metadata": {},
     "output_type": "execute_result"
    }
   ],
   "source": [
    "importlib.reload(c1w4)\n",
    "importlib.reload(c1w3)"
   ],
   "metadata": {
    "collapsed": false
   }
  },
  {
   "cell_type": "code",
   "execution_count": 5,
   "outputs": [
    {
     "data": {
      "text/plain": "[[0.8, 0.8, 0.4, 0.6, 0.4],\n [0.0, 0.2, 0.2, 0.0, 0.2],\n [0.0, 0.0, 0.4, 0.2, 0.2],\n [0.2, 0.0, 0.0, 0.2, 0.2]]"
     },
     "execution_count": 5,
     "metadata": {},
     "output_type": "execute_result"
    }
   ],
   "source": [
    "helper.Profile(\n",
    "    [\"AAAAA\", \"AAGTC\", \"ACGAG\", \"TACGT\", \"AAAAA\"]\n",
    ")"
   ],
   "metadata": {
    "collapsed": false
   }
  },
  {
   "cell_type": "code",
   "execution_count": 56,
   "outputs": [
    {
     "data": {
      "text/plain": "['TCTCGGGG', 'CCAAGGTG', 'TACAGGCG', 'TTCAGGTG', 'TCCACGTG']"
     },
     "execution_count": 56,
     "metadata": {},
     "output_type": "execute_result"
    }
   ],
   "source": [
    "c1w4.randomized_motif_search(\n",
    "    [\n",
    "        \"CGCCCCTCTCGGGGGTGTTCAGTAAACGGCCA\",\n",
    "        \"GGGCGAGGTATGTGTAAGTGCCAAGGTGCCAG\",\n",
    "        \"TAGTACCGAGACCGAAAGAAGTATACAGGCGT\",\n",
    "        \"TAGATCAAGTTTCAGGTGCACGTCGGTGAACC\",\n",
    "        \"AATCCACCAGCTCCACGTGCAATGTTGGCCTA\"\n",
    "    ],\n",
    "    8, 5\n",
    ")"
   ],
   "metadata": {
    "collapsed": false
   }
  },
  {
   "cell_type": "code",
   "execution_count": 60,
   "outputs": [
    {
     "name": "stdout",
     "output_type": "stream",
     "text": [
      "CGCTTAATGGTCTCG CGAAGCAATGTCAAA CGATTTAATGGTCAA CGATTTAATGTCGCT TTCTTTAATGTCAAA CGATTTAAAAACAAA CGATTTACGATCAAA CGAGGGAATGTCAAA AGATTTAATGTCATT CGATTCTTTGTCAAA CGATAATATGTCAAA CGATTTAATGTATGA CGATAATATGTCAAA CGGCGTAATGTCAAA CGATTTTCGGTCAAA CACATTAATGTCAAA CGATTTCCAGTCAAA GTATTTAATGTCAAC CGATTGTCTGTCAAA CGATTTAATCAGAAA\n"
     ]
    }
   ],
   "source": [
    "with open(\"res/datasets/dataset_161_5.txt\") as f:\n",
    "    lines = f.readlines()\n",
    "    _k, _t = [int(x) for x in lines[0].split()]\n",
    "    _dna = [x for x in lines[1].split()]\n",
    "\n",
    "    print(*c1w4.randomized_motif_search(_dna, _k, _t))"
   ],
   "metadata": {
    "collapsed": false
   }
  },
  {
   "cell_type": "code",
   "execution_count": 76,
   "outputs": [
    {
     "name": "stdout",
     "output_type": "stream",
     "text": [
      "NEW Minimum Found! i=0 \t score=46 \t consensus='AAAAAAAGGAGTGGG'\n",
      "NEW Minimum Found! i=3 \t score=45 \t consensus='GGACTTAAAAAAAAG'\n",
      "NEW Minimum Found! i=5 \t score=42 \t consensus='AATAAAAAGGGAGGG'\n",
      "NEW Minimum Found! i=12 \t score=38 \t consensus='ACAAAAAAGGAGGGG'\n",
      "NEW Minimum Found! i=15 \t score=37 \t consensus='AAAAAAAAGGAGGGG'\n",
      "NEW Minimum Found! i=44 \t score=35 \t consensus='TAAAAAAAAGGAGGG'\n"
     ]
    },
    {
     "ename": "KeyboardInterrupt",
     "evalue": "",
     "output_type": "error",
     "traceback": [
      "\u001B[0;31m---------------------------------------------------------------------------\u001B[0m",
      "\u001B[0;31mKeyboardInterrupt\u001B[0m                         Traceback (most recent call last)",
      "\u001B[0;32m/var/folders/df/ywcrxxps2076h7lsq6_y2dnw0000gn/T/ipykernel_74435/1157111821.py\u001B[0m in \u001B[0;36m<module>\u001B[0;34m\u001B[0m\n\u001B[1;32m     15\u001B[0m \u001B[0;34m\u001B[0m\u001B[0m\n\u001B[1;32m     16\u001B[0m \u001B[0mimportlib\u001B[0m\u001B[0;34m.\u001B[0m\u001B[0mreload\u001B[0m\u001B[0;34m(\u001B[0m\u001B[0mc1w4\u001B[0m\u001B[0;34m)\u001B[0m\u001B[0;34m\u001B[0m\u001B[0;34m\u001B[0m\u001B[0m\n\u001B[0;32m---> 17\u001B[0;31m \u001B[0mc1w4\u001B[0m\u001B[0;34m.\u001B[0m\u001B[0mrandomized_motif_search\u001B[0m\u001B[0;34m(\u001B[0m\u001B[0mqs_dna\u001B[0m\u001B[0;34m,\u001B[0m \u001B[0mqs_k\u001B[0m\u001B[0;34m,\u001B[0m \u001B[0mlen\u001B[0m\u001B[0;34m(\u001B[0m\u001B[0mqs_dna\u001B[0m\u001B[0;34m)\u001B[0m\u001B[0;34m,\u001B[0m \u001B[0miterations\u001B[0m\u001B[0;34m=\u001B[0m\u001B[0mqs_i\u001B[0m\u001B[0;34m,\u001B[0m \u001B[0mprint_min\u001B[0m\u001B[0;34m=\u001B[0m\u001B[0;32mTrue\u001B[0m\u001B[0;34m)\u001B[0m\u001B[0;34m\u001B[0m\u001B[0;34m\u001B[0m\u001B[0m\n\u001B[0m",
      "\u001B[0;32m~/Desktop/Bioinformatics/Bioinformatics/coursea_course/helper/course1_week4.py\u001B[0m in \u001B[0;36mrandomized_motif_search\u001B[0;34m(dna, k, t, iterations, print_min)\u001B[0m\n\u001B[1;32m     27\u001B[0m \u001B[0;34m\u001B[0m\u001B[0m\n\u001B[1;32m     28\u001B[0m     \u001B[0;32mfor\u001B[0m \u001B[0mi\u001B[0m \u001B[0;32min\u001B[0m \u001B[0mrange\u001B[0m\u001B[0;34m(\u001B[0m\u001B[0miterations\u001B[0m\u001B[0;34m)\u001B[0m\u001B[0;34m:\u001B[0m\u001B[0;34m\u001B[0m\u001B[0;34m\u001B[0m\u001B[0m\n\u001B[0;32m---> 29\u001B[0;31m         \u001B[0mlast_motifs\u001B[0m \u001B[0;34m=\u001B[0m \u001B[0m_inner_loop\u001B[0m\u001B[0;34m(\u001B[0m\u001B[0;34m)\u001B[0m\u001B[0;34m\u001B[0m\u001B[0;34m\u001B[0m\u001B[0m\n\u001B[0m\u001B[1;32m     30\u001B[0m         \u001B[0mscore\u001B[0m \u001B[0;34m=\u001B[0m \u001B[0mc1w3\u001B[0m\u001B[0;34m.\u001B[0m\u001B[0mscore\u001B[0m\u001B[0;34m(\u001B[0m\u001B[0mlast_motifs\u001B[0m\u001B[0;34m)\u001B[0m\u001B[0;34m\u001B[0m\u001B[0;34m\u001B[0m\u001B[0m\n\u001B[1;32m     31\u001B[0m         \u001B[0;32mif\u001B[0m \u001B[0mscore\u001B[0m \u001B[0;34m<\u001B[0m \u001B[0mc1w3\u001B[0m\u001B[0;34m.\u001B[0m\u001B[0mscore\u001B[0m\u001B[0;34m(\u001B[0m\u001B[0mbest_motifs\u001B[0m\u001B[0;34m)\u001B[0m\u001B[0;34m:\u001B[0m\u001B[0;34m\u001B[0m\u001B[0;34m\u001B[0m\u001B[0m\n",
      "\u001B[0;32m~/Desktop/Bioinformatics/Bioinformatics/coursea_course/helper/course1_week4.py\u001B[0m in \u001B[0;36m_inner_loop\u001B[0;34m()\u001B[0m\n\u001B[1;32m     17\u001B[0m         \u001B[0;32mwhile\u001B[0m \u001B[0;32mTrue\u001B[0m\u001B[0;34m:\u001B[0m\u001B[0;34m\u001B[0m\u001B[0;34m\u001B[0m\u001B[0m\n\u001B[1;32m     18\u001B[0m             \u001B[0mprofile\u001B[0m \u001B[0;34m=\u001B[0m \u001B[0mc1w3\u001B[0m\u001B[0;34m.\u001B[0m\u001B[0mProfile\u001B[0m\u001B[0;34m(\u001B[0m\u001B[0m_best_motifs\u001B[0m\u001B[0;34m,\u001B[0m \u001B[0mlaplace\u001B[0m\u001B[0;34m=\u001B[0m\u001B[0;32mTrue\u001B[0m\u001B[0;34m)\u001B[0m\u001B[0;34m\u001B[0m\u001B[0;34m\u001B[0m\u001B[0m\n\u001B[0;32m---> 19\u001B[0;31m             \u001B[0mmotifs\u001B[0m \u001B[0;34m=\u001B[0m \u001B[0mmotifs_from_profile\u001B[0m\u001B[0;34m(\u001B[0m\u001B[0mprofile\u001B[0m\u001B[0;34m,\u001B[0m \u001B[0mdna\u001B[0m\u001B[0;34m)\u001B[0m\u001B[0;34m\u001B[0m\u001B[0;34m\u001B[0m\u001B[0m\n\u001B[0m\u001B[1;32m     20\u001B[0m             \u001B[0;32mif\u001B[0m \u001B[0mc1w3\u001B[0m\u001B[0;34m.\u001B[0m\u001B[0mscore\u001B[0m\u001B[0;34m(\u001B[0m\u001B[0mmotifs\u001B[0m\u001B[0;34m)\u001B[0m \u001B[0;34m<\u001B[0m \u001B[0mc1w3\u001B[0m\u001B[0;34m.\u001B[0m\u001B[0mscore\u001B[0m\u001B[0;34m(\u001B[0m\u001B[0m_best_motifs\u001B[0m\u001B[0;34m)\u001B[0m\u001B[0;34m:\u001B[0m\u001B[0;34m\u001B[0m\u001B[0;34m\u001B[0m\u001B[0m\n\u001B[1;32m     21\u001B[0m                 \u001B[0m_best_motifs\u001B[0m \u001B[0;34m=\u001B[0m \u001B[0mmotifs\u001B[0m\u001B[0;34m[\u001B[0m\u001B[0;34m:\u001B[0m\u001B[0;34m]\u001B[0m\u001B[0;34m\u001B[0m\u001B[0;34m\u001B[0m\u001B[0m\n",
      "\u001B[0;32m~/Desktop/Bioinformatics/Bioinformatics/coursea_course/helper/course1_week4.py\u001B[0m in \u001B[0;36mmotifs_from_profile\u001B[0;34m(profile, dna)\u001B[0m\n\u001B[1;32m      8\u001B[0m \u001B[0;32mdef\u001B[0m \u001B[0mmotifs_from_profile\u001B[0m\u001B[0;34m(\u001B[0m\u001B[0mprofile\u001B[0m\u001B[0;34m:\u001B[0m \u001B[0mList\u001B[0m\u001B[0;34m[\u001B[0m\u001B[0mList\u001B[0m\u001B[0;34m[\u001B[0m\u001B[0mfloat\u001B[0m\u001B[0;34m]\u001B[0m\u001B[0;34m]\u001B[0m\u001B[0;34m,\u001B[0m \u001B[0mdna\u001B[0m\u001B[0;34m:\u001B[0m \u001B[0mList\u001B[0m\u001B[0;34m[\u001B[0m\u001B[0mstr\u001B[0m\u001B[0;34m]\u001B[0m\u001B[0;34m)\u001B[0m\u001B[0;34m:\u001B[0m\u001B[0;34m\u001B[0m\u001B[0;34m\u001B[0m\u001B[0m\n\u001B[1;32m      9\u001B[0m     \u001B[0mk\u001B[0m \u001B[0;34m=\u001B[0m \u001B[0mlen\u001B[0m\u001B[0;34m(\u001B[0m\u001B[0mprofile\u001B[0m\u001B[0;34m[\u001B[0m\u001B[0;36m0\u001B[0m\u001B[0;34m]\u001B[0m\u001B[0;34m)\u001B[0m\u001B[0;34m\u001B[0m\u001B[0;34m\u001B[0m\u001B[0m\n\u001B[0;32m---> 10\u001B[0;31m     \u001B[0;32mreturn\u001B[0m \u001B[0;34m[\u001B[0m\u001B[0mc1w3\u001B[0m\u001B[0;34m.\u001B[0m\u001B[0mprofile_most_probable_kmer\u001B[0m\u001B[0;34m(\u001B[0m\u001B[0m_dna\u001B[0m\u001B[0;34m,\u001B[0m \u001B[0mk\u001B[0m\u001B[0;34m,\u001B[0m \u001B[0mprofile\u001B[0m\u001B[0;34m)\u001B[0m \u001B[0;32mfor\u001B[0m \u001B[0m_dna\u001B[0m \u001B[0;32min\u001B[0m \u001B[0mdna\u001B[0m\u001B[0;34m]\u001B[0m\u001B[0;34m\u001B[0m\u001B[0;34m\u001B[0m\u001B[0m\n\u001B[0m\u001B[1;32m     11\u001B[0m \u001B[0;34m\u001B[0m\u001B[0m\n\u001B[1;32m     12\u001B[0m \u001B[0;34m\u001B[0m\u001B[0m\n",
      "\u001B[0;32m~/Desktop/Bioinformatics/Bioinformatics/coursea_course/helper/course1_week4.py\u001B[0m in \u001B[0;36m<listcomp>\u001B[0;34m(.0)\u001B[0m\n\u001B[1;32m      8\u001B[0m \u001B[0;32mdef\u001B[0m \u001B[0mmotifs_from_profile\u001B[0m\u001B[0;34m(\u001B[0m\u001B[0mprofile\u001B[0m\u001B[0;34m:\u001B[0m \u001B[0mList\u001B[0m\u001B[0;34m[\u001B[0m\u001B[0mList\u001B[0m\u001B[0;34m[\u001B[0m\u001B[0mfloat\u001B[0m\u001B[0;34m]\u001B[0m\u001B[0;34m]\u001B[0m\u001B[0;34m,\u001B[0m \u001B[0mdna\u001B[0m\u001B[0;34m:\u001B[0m \u001B[0mList\u001B[0m\u001B[0;34m[\u001B[0m\u001B[0mstr\u001B[0m\u001B[0;34m]\u001B[0m\u001B[0;34m)\u001B[0m\u001B[0;34m:\u001B[0m\u001B[0;34m\u001B[0m\u001B[0;34m\u001B[0m\u001B[0m\n\u001B[1;32m      9\u001B[0m     \u001B[0mk\u001B[0m \u001B[0;34m=\u001B[0m \u001B[0mlen\u001B[0m\u001B[0;34m(\u001B[0m\u001B[0mprofile\u001B[0m\u001B[0;34m[\u001B[0m\u001B[0;36m0\u001B[0m\u001B[0;34m]\u001B[0m\u001B[0;34m)\u001B[0m\u001B[0;34m\u001B[0m\u001B[0;34m\u001B[0m\u001B[0m\n\u001B[0;32m---> 10\u001B[0;31m     \u001B[0;32mreturn\u001B[0m \u001B[0;34m[\u001B[0m\u001B[0mc1w3\u001B[0m\u001B[0;34m.\u001B[0m\u001B[0mprofile_most_probable_kmer\u001B[0m\u001B[0;34m(\u001B[0m\u001B[0m_dna\u001B[0m\u001B[0;34m,\u001B[0m \u001B[0mk\u001B[0m\u001B[0;34m,\u001B[0m \u001B[0mprofile\u001B[0m\u001B[0;34m)\u001B[0m \u001B[0;32mfor\u001B[0m \u001B[0m_dna\u001B[0m \u001B[0;32min\u001B[0m \u001B[0mdna\u001B[0m\u001B[0;34m]\u001B[0m\u001B[0;34m\u001B[0m\u001B[0;34m\u001B[0m\u001B[0m\n\u001B[0m\u001B[1;32m     11\u001B[0m \u001B[0;34m\u001B[0m\u001B[0m\n\u001B[1;32m     12\u001B[0m \u001B[0;34m\u001B[0m\u001B[0m\n",
      "\u001B[0;32m~/Desktop/Bioinformatics/Bioinformatics/coursea_course/helper/course1_week3.py\u001B[0m in \u001B[0;36mprofile_most_probable_kmer\u001B[0;34m(dna, k, profile)\u001B[0m\n\u001B[1;32m     98\u001B[0m     \u001B[0;32mfor\u001B[0m \u001B[0mi\u001B[0m \u001B[0;32min\u001B[0m \u001B[0mrange\u001B[0m\u001B[0;34m(\u001B[0m\u001B[0mn\u001B[0m \u001B[0;34m-\u001B[0m \u001B[0mk\u001B[0m \u001B[0;34m+\u001B[0m \u001B[0;36m1\u001B[0m\u001B[0;34m)\u001B[0m\u001B[0;34m:\u001B[0m\u001B[0;34m\u001B[0m\u001B[0;34m\u001B[0m\u001B[0m\n\u001B[1;32m     99\u001B[0m         \u001B[0mpattern\u001B[0m \u001B[0;34m=\u001B[0m \u001B[0mdna\u001B[0m\u001B[0;34m[\u001B[0m\u001B[0mi\u001B[0m\u001B[0;34m:\u001B[0m \u001B[0mi\u001B[0m \u001B[0;34m+\u001B[0m \u001B[0mk\u001B[0m\u001B[0;34m]\u001B[0m\u001B[0;34m\u001B[0m\u001B[0;34m\u001B[0m\u001B[0m\n\u001B[0;32m--> 100\u001B[0;31m         \u001B[0mn_prob\u001B[0m \u001B[0;34m=\u001B[0m \u001B[0mft\u001B[0m\u001B[0;34m.\u001B[0m\u001B[0mreduce\u001B[0m\u001B[0;34m(\u001B[0m\u001B[0moperator\u001B[0m\u001B[0;34m.\u001B[0m\u001B[0mmul\u001B[0m\u001B[0;34m,\u001B[0m \u001B[0;34m[\u001B[0m\u001B[0mprofile\u001B[0m\u001B[0;34m[\u001B[0m\u001B[0mn_map\u001B[0m\u001B[0;34m[\u001B[0m\u001B[0mnucleotide\u001B[0m\u001B[0;34m]\u001B[0m\u001B[0;34m]\u001B[0m\u001B[0;34m[\u001B[0m\u001B[0mj\u001B[0m\u001B[0;34m]\u001B[0m \u001B[0;32mfor\u001B[0m \u001B[0mj\u001B[0m\u001B[0;34m,\u001B[0m \u001B[0mnucleotide\u001B[0m \u001B[0;32min\u001B[0m \u001B[0menumerate\u001B[0m\u001B[0;34m(\u001B[0m\u001B[0mpattern\u001B[0m\u001B[0;34m)\u001B[0m\u001B[0;34m]\u001B[0m\u001B[0;34m)\u001B[0m\u001B[0;34m\u001B[0m\u001B[0;34m\u001B[0m\u001B[0m\n\u001B[0m\u001B[1;32m    101\u001B[0m         \u001B[0;31m# print(pattern, n_prob)\u001B[0m\u001B[0;34m\u001B[0m\u001B[0;34m\u001B[0m\u001B[0m\n\u001B[1;32m    102\u001B[0m         \u001B[0;32mif\u001B[0m \u001B[0mn_prob\u001B[0m \u001B[0;34m>\u001B[0m \u001B[0mprob\u001B[0m\u001B[0;34m:\u001B[0m\u001B[0;34m\u001B[0m\u001B[0;34m\u001B[0m\u001B[0m\n",
      "\u001B[0;32m~/Desktop/Bioinformatics/Bioinformatics/coursea_course/helper/course1_week3.py\u001B[0m in \u001B[0;36m<listcomp>\u001B[0;34m(.0)\u001B[0m\n\u001B[1;32m     98\u001B[0m     \u001B[0;32mfor\u001B[0m \u001B[0mi\u001B[0m \u001B[0;32min\u001B[0m \u001B[0mrange\u001B[0m\u001B[0;34m(\u001B[0m\u001B[0mn\u001B[0m \u001B[0;34m-\u001B[0m \u001B[0mk\u001B[0m \u001B[0;34m+\u001B[0m \u001B[0;36m1\u001B[0m\u001B[0;34m)\u001B[0m\u001B[0;34m:\u001B[0m\u001B[0;34m\u001B[0m\u001B[0;34m\u001B[0m\u001B[0m\n\u001B[1;32m     99\u001B[0m         \u001B[0mpattern\u001B[0m \u001B[0;34m=\u001B[0m \u001B[0mdna\u001B[0m\u001B[0;34m[\u001B[0m\u001B[0mi\u001B[0m\u001B[0;34m:\u001B[0m \u001B[0mi\u001B[0m \u001B[0;34m+\u001B[0m \u001B[0mk\u001B[0m\u001B[0;34m]\u001B[0m\u001B[0;34m\u001B[0m\u001B[0;34m\u001B[0m\u001B[0m\n\u001B[0;32m--> 100\u001B[0;31m         \u001B[0mn_prob\u001B[0m \u001B[0;34m=\u001B[0m \u001B[0mft\u001B[0m\u001B[0;34m.\u001B[0m\u001B[0mreduce\u001B[0m\u001B[0;34m(\u001B[0m\u001B[0moperator\u001B[0m\u001B[0;34m.\u001B[0m\u001B[0mmul\u001B[0m\u001B[0;34m,\u001B[0m \u001B[0;34m[\u001B[0m\u001B[0mprofile\u001B[0m\u001B[0;34m[\u001B[0m\u001B[0mn_map\u001B[0m\u001B[0;34m[\u001B[0m\u001B[0mnucleotide\u001B[0m\u001B[0;34m]\u001B[0m\u001B[0;34m]\u001B[0m\u001B[0;34m[\u001B[0m\u001B[0mj\u001B[0m\u001B[0;34m]\u001B[0m \u001B[0;32mfor\u001B[0m \u001B[0mj\u001B[0m\u001B[0;34m,\u001B[0m \u001B[0mnucleotide\u001B[0m \u001B[0;32min\u001B[0m \u001B[0menumerate\u001B[0m\u001B[0;34m(\u001B[0m\u001B[0mpattern\u001B[0m\u001B[0;34m)\u001B[0m\u001B[0;34m]\u001B[0m\u001B[0;34m)\u001B[0m\u001B[0;34m\u001B[0m\u001B[0;34m\u001B[0m\u001B[0m\n\u001B[0m\u001B[1;32m    101\u001B[0m         \u001B[0;31m# print(pattern, n_prob)\u001B[0m\u001B[0;34m\u001B[0m\u001B[0;34m\u001B[0m\u001B[0m\n\u001B[1;32m    102\u001B[0m         \u001B[0;32mif\u001B[0m \u001B[0mn_prob\u001B[0m \u001B[0;34m>\u001B[0m \u001B[0mprob\u001B[0m\u001B[0;34m:\u001B[0m\u001B[0;34m\u001B[0m\u001B[0;34m\u001B[0m\u001B[0m\n",
      "\u001B[0;31mKeyboardInterrupt\u001B[0m: "
     ]
    }
   ],
   "source": [
    "qs_dna = [\n",
    "    \"ATGACCGGGATACTGATAGAAGAAAGGTTGGGGGCGTACACATTAGATAAACGTATGAAGTACGTTAGACTCGGCGCCGCCG\",\n",
    "    \"ACCCCTATTTTTTGAGCAGATTTAGTGACCTGGAAAAAAAATTTGAGTACAAAACTTTTCCGAATACAATAAAACGGCGGGA\",\n",
    "    \"TGAGTATCCCTGGGATGACTTAAAATAATGGAGTGGTGCTCTCCCGATTTTTGAATATGTAGGATCATTCGCCAGGGTCCGA\",\n",
    "    \"GCTGAGAATTGGATGCAAAAAAAGGGATTGTCCACGCAATCGCGAACCAACGCGGACCCAAAGGCAAGACCGATAAAGGAGA\",\n",
    "    \"TCCCTTTTGCGGTAATGTGCCGGGAGGCTGGTTACGTAGGGAAGCCCTAACGGACTTAATATAATAAAGGAAGGGCTTATAG\",\n",
    "    \"GTCAATCATGTTCTTGTGAATGGATTTAACAATAAGGGCTGGGACCGCTTGGCGCACCCAAATTCAGTGTGGGCGAGCGCAA\",\n",
    "    \"CGGTTTTGGCCCTTGTTAGAGGCCCCCGTATAAACAAGGAGGGCCAATTATGAGAGAGCTAATCTATCGCGTGCGTGTTCAT\",\n",
    "    \"AACTTGAGTTAAAAAATAGGGAGCCCTGGGGCACATACAAGAGGAGTCTTCCTTATCAGTTAATGCTGTATGACACTATGTA\",\n",
    "    \"TTGGCCCATTGGCTAAAAGCCCAACTTGACAAATGGAAGATAGAATCCTTGCATACTAAAAAGGAGCGGACCGAAAGGGAAG\",\n",
    "    \"CTGGTGAGCAACGACAGATTCTTACGTGCATTAGCTCGCTTCCGGGGATCTAATAGCACGAAGCTTACTAAAAAGGAGCGGA\",\n",
    "]\n",
    "qs_k = 15\n",
    "qs_i = 100000\n",
    "\n",
    "importlib.reload(c1w4)\n",
    "c1w4.randomized_motif_search(qs_dna, qs_k, len(qs_dna), iterations=qs_i, print_min=True)"
   ],
   "metadata": {
    "collapsed": false
   }
  },
  {
   "cell_type": "code",
   "execution_count": 78,
   "outputs": [
    {
     "data": {
      "text/plain": "2.872570978364789e-05"
     },
     "execution_count": 78,
     "metadata": {},
     "output_type": "execute_result"
    }
   ],
   "source": [
    "importlib.reload(c1w4)\n",
    "c1w4.prob_motifs(k=15, t=10, n=600, a=2)"
   ],
   "metadata": {
    "collapsed": false
   }
  },
  {
   "cell_type": "code",
   "execution_count": 146,
   "outputs": [
    {
     "data": {
      "text/plain": "['CGGGGGTG', 'CCAAGGTG', 'TACAGGCG', 'TTCAGGTG', 'TCCACGTG']"
     },
     "execution_count": 146,
     "metadata": {},
     "output_type": "execute_result"
    }
   ],
   "source": [
    "importlib.reload(c1w4)\n",
    "c1w4.gibbs_sampler(\n",
    "    [\n",
    "        \"CGCCCCTCTCGGGGGTGTTCAGTAACCGGCCA\",\n",
    "        \"GGGCGAGGTATGTGTAAGTGCCAAGGTGCCAG\",\n",
    "        \"TAGTACCGAGACCGAAAGAAGTATACAGGCGT\",\n",
    "        \"TAGATCAAGTTTCAGGTGCACGTCGGTGAACC\",\n",
    "        \"AATCCACCAGCTCCACGTGCAATGTTGGCCTA\",\n",
    "    ],\n",
    "    8, 5, 100, iterations=20\n",
    ")"
   ],
   "metadata": {
    "collapsed": false
   }
  },
  {
   "cell_type": "code",
   "execution_count": 151,
   "outputs": [
    {
     "name": "stdout",
     "output_type": "stream",
     "text": [
      "GGCTTTCAGAGGTAA GGTGATCATCAGTAA GGTTTGAGCCAGTAA GGTTTAAGTCAGTAA GGTTAATATCAGTAA GGTTTGCATCGCCAA GTGGTGCATCAGTAA CGTTTGCATCAGTGT GGTTTGAGGCAGTAA GGTTTAGTTCAGTAA GGGCCGCATCAGTAA GGTTTGCATCAGGGC GGTTACTATCAGTAA ATCTTGCATCAGTAA GGTTTGCATCATATA GGTTTGCTGTAGTAA GGTTTGCACTGGTAA ACTTTGCATCAGTAG GGTTTGCATACCTAA GGTACCCATCAGTAA\n"
     ]
    }
   ],
   "source": [
    "importlib.reload(c1w4)\n",
    "\n",
    "with open(\"res/datasets/dataset_163_4.txt\") as f:\n",
    "    lines = f.readlines()\n",
    "    _k, _t, _N = [int(x) for x in lines[0].split()]\n",
    "    _dna = [x for x in lines[1].split()]\n",
    "\n",
    "    _result = c1w4.gibbs_sampler(_dna, _k, _t, _N, iterations=20)\n",
    "\n",
    "    print(*_result)"
   ],
   "metadata": {
    "collapsed": false
   }
  },
  {
   "cell_type": "code",
   "execution_count": 153,
   "outputs": [
    {
     "name": "stdout",
     "output_type": "stream",
     "text": [
      "NEW Minimum Found! i=0 \t score=35 \t consensus='TAAAAAAAAGGAGGG'\n"
     ]
    },
    {
     "data": {
      "text/plain": "['TAGAAGAAAGGTTGG',\n 'CAATAAAACGGCGGG',\n 'TAAAATAATGGAGTG',\n 'CAAAAAAAGGGATTG',\n 'TATAATAAAGGAAGG',\n 'TAACAATAAGGGCTG',\n 'TATAAACAAGGAGGG',\n 'TAAAAAATAGGGAGC',\n 'TACTAAAAAGGAGCG',\n 'TACTAAAAAGGAGCG']"
     },
     "execution_count": 153,
     "metadata": {},
     "output_type": "execute_result"
    }
   ],
   "source": [
    "c1w4.gibbs_sampler(qs_dna, qs_k, len(qs_dna), N=1000, iterations=20, print_min=True)"
   ],
   "metadata": {
    "collapsed": false
   }
  },
  {
   "cell_type": "markdown",
   "source": [
    "DsoR Dataset Analysis"
   ],
   "metadata": {
    "collapsed": false
   }
  },
  {
   "cell_type": "code",
   "execution_count": 5,
   "outputs": [],
   "source": [
    "f = open(\"res/datasets/DosR.txt\")\n",
    "lines = f.readlines()\n",
    "DsoR = [x.replace(\"\\n\", \"\") for x in lines]"
   ],
   "metadata": {
    "collapsed": false
   }
  },
  {
   "cell_type": "code",
   "execution_count": 6,
   "outputs": [],
   "source": [
    "t = len(DsoR)\n",
    "n = len(DsoR[0])"
   ],
   "metadata": {
    "collapsed": false
   }
  },
  {
   "cell_type": "code",
   "execution_count": 7,
   "outputs": [
    {
     "ename": "KeyboardInterrupt",
     "evalue": "",
     "output_type": "error",
     "traceback": [
      "\u001B[0;31m---------------------------------------------------------------------------\u001B[0m",
      "\u001B[0;31mKeyboardInterrupt\u001B[0m                         Traceback (most recent call last)",
      "\u001B[0;32m/var/folders/df/ywcrxxps2076h7lsq6_y2dnw0000gn/T/ipykernel_57209/812091061.py\u001B[0m in \u001B[0;36m<module>\u001B[0;34m\u001B[0m\n\u001B[1;32m      1\u001B[0m \u001B[0;32mfor\u001B[0m \u001B[0mk\u001B[0m \u001B[0;32min\u001B[0m \u001B[0mrange\u001B[0m\u001B[0;34m(\u001B[0m\u001B[0;36m8\u001B[0m\u001B[0;34m,\u001B[0m \u001B[0;36m13\u001B[0m\u001B[0;34m)\u001B[0m\u001B[0;34m:\u001B[0m\u001B[0;34m\u001B[0m\u001B[0;34m\u001B[0m\u001B[0m\n\u001B[0;32m----> 2\u001B[0;31m     \u001B[0m_res\u001B[0m \u001B[0;34m=\u001B[0m \u001B[0mc1w4\u001B[0m\u001B[0;34m.\u001B[0m\u001B[0mrandomized_motif_search\u001B[0m\u001B[0;34m(\u001B[0m\u001B[0mDsoR\u001B[0m\u001B[0;34m,\u001B[0m \u001B[0mk\u001B[0m\u001B[0;34m=\u001B[0m\u001B[0mk\u001B[0m\u001B[0;34m,\u001B[0m \u001B[0mt\u001B[0m\u001B[0;34m=\u001B[0m\u001B[0mt\u001B[0m\u001B[0;34m)\u001B[0m\u001B[0;34m\u001B[0m\u001B[0;34m\u001B[0m\u001B[0m\n\u001B[0m\u001B[1;32m      3\u001B[0m     \u001B[0m_median\u001B[0m \u001B[0;34m=\u001B[0m \u001B[0mc1w3\u001B[0m\u001B[0;34m.\u001B[0m\u001B[0mmedian_string\u001B[0m\u001B[0;34m(\u001B[0m\u001B[0m_res\u001B[0m\u001B[0;34m,\u001B[0m \u001B[0mk\u001B[0m\u001B[0;34m=\u001B[0m\u001B[0mk\u001B[0m\u001B[0;34m)\u001B[0m\u001B[0;34m\u001B[0m\u001B[0;34m\u001B[0m\u001B[0m\n\u001B[1;32m      4\u001B[0m     \u001B[0m_score_motif\u001B[0m \u001B[0;34m=\u001B[0m \u001B[0mc1w3\u001B[0m\u001B[0;34m.\u001B[0m\u001B[0mscore\u001B[0m\u001B[0;34m(\u001B[0m\u001B[0m_res\u001B[0m\u001B[0;34m)\u001B[0m\u001B[0;34m\u001B[0m\u001B[0;34m\u001B[0m\u001B[0m\n\u001B[1;32m      5\u001B[0m     \u001B[0m_score_median\u001B[0m \u001B[0;34m=\u001B[0m \u001B[0mc1w3\u001B[0m\u001B[0;34m.\u001B[0m\u001B[0md\u001B[0m\u001B[0;34m(\u001B[0m\u001B[0m_median\u001B[0m\u001B[0;34m,\u001B[0m \u001B[0m_res\u001B[0m\u001B[0;34m)\u001B[0m\u001B[0;34m\u001B[0m\u001B[0;34m\u001B[0m\u001B[0m\n",
      "\u001B[0;32m~/Desktop/Bioinformatics/Bioinformatics/coursea_course/helper/course1_week4.py\u001B[0m in \u001B[0;36mrandomized_motif_search\u001B[0;34m(dna, k, t, iterations, print_min)\u001B[0m\n\u001B[1;32m     41\u001B[0m \u001B[0;34m\u001B[0m\u001B[0m\n\u001B[1;32m     42\u001B[0m     \u001B[0;32mfor\u001B[0m \u001B[0mi\u001B[0m \u001B[0;32min\u001B[0m \u001B[0mrange\u001B[0m\u001B[0;34m(\u001B[0m\u001B[0miterations\u001B[0m\u001B[0;34m)\u001B[0m\u001B[0;34m:\u001B[0m\u001B[0;34m\u001B[0m\u001B[0;34m\u001B[0m\u001B[0m\n\u001B[0;32m---> 43\u001B[0;31m         \u001B[0mlast_motifs\u001B[0m \u001B[0;34m=\u001B[0m \u001B[0m_inner_loop\u001B[0m\u001B[0;34m(\u001B[0m\u001B[0;34m)\u001B[0m\u001B[0;34m\u001B[0m\u001B[0;34m\u001B[0m\u001B[0m\n\u001B[0m\u001B[1;32m     44\u001B[0m         \u001B[0mscore\u001B[0m \u001B[0;34m=\u001B[0m \u001B[0mc1w3\u001B[0m\u001B[0;34m.\u001B[0m\u001B[0mscore\u001B[0m\u001B[0;34m(\u001B[0m\u001B[0mlast_motifs\u001B[0m\u001B[0;34m)\u001B[0m\u001B[0;34m\u001B[0m\u001B[0;34m\u001B[0m\u001B[0m\n\u001B[1;32m     45\u001B[0m         \u001B[0;32mif\u001B[0m \u001B[0mscore\u001B[0m \u001B[0;34m<\u001B[0m \u001B[0mc1w3\u001B[0m\u001B[0;34m.\u001B[0m\u001B[0mscore\u001B[0m\u001B[0;34m(\u001B[0m\u001B[0mbest_motifs\u001B[0m\u001B[0;34m)\u001B[0m\u001B[0;34m:\u001B[0m\u001B[0;34m\u001B[0m\u001B[0;34m\u001B[0m\u001B[0m\n",
      "\u001B[0;32m~/Desktop/Bioinformatics/Bioinformatics/coursea_course/helper/course1_week4.py\u001B[0m in \u001B[0;36m_inner_loop\u001B[0;34m()\u001B[0m\n\u001B[1;32m     31\u001B[0m         \u001B[0;32mwhile\u001B[0m \u001B[0;32mTrue\u001B[0m\u001B[0;34m:\u001B[0m\u001B[0;34m\u001B[0m\u001B[0;34m\u001B[0m\u001B[0m\n\u001B[1;32m     32\u001B[0m             \u001B[0mprofile\u001B[0m \u001B[0;34m=\u001B[0m \u001B[0mc1w3\u001B[0m\u001B[0;34m.\u001B[0m\u001B[0mProfile\u001B[0m\u001B[0;34m(\u001B[0m\u001B[0m_best_motifs\u001B[0m\u001B[0;34m,\u001B[0m \u001B[0mlaplace\u001B[0m\u001B[0;34m=\u001B[0m\u001B[0;32mTrue\u001B[0m\u001B[0;34m)\u001B[0m\u001B[0;34m\u001B[0m\u001B[0;34m\u001B[0m\u001B[0m\n\u001B[0;32m---> 33\u001B[0;31m             \u001B[0mmotifs\u001B[0m \u001B[0;34m=\u001B[0m \u001B[0mmotifs_from_profile\u001B[0m\u001B[0;34m(\u001B[0m\u001B[0mprofile\u001B[0m\u001B[0;34m,\u001B[0m \u001B[0mdna\u001B[0m\u001B[0;34m)\u001B[0m\u001B[0;34m\u001B[0m\u001B[0;34m\u001B[0m\u001B[0m\n\u001B[0m\u001B[1;32m     34\u001B[0m             \u001B[0;32mif\u001B[0m \u001B[0mc1w3\u001B[0m\u001B[0;34m.\u001B[0m\u001B[0mscore\u001B[0m\u001B[0;34m(\u001B[0m\u001B[0mmotifs\u001B[0m\u001B[0;34m)\u001B[0m \u001B[0;34m<\u001B[0m \u001B[0mc1w3\u001B[0m\u001B[0;34m.\u001B[0m\u001B[0mscore\u001B[0m\u001B[0;34m(\u001B[0m\u001B[0m_best_motifs\u001B[0m\u001B[0;34m)\u001B[0m\u001B[0;34m:\u001B[0m\u001B[0;34m\u001B[0m\u001B[0;34m\u001B[0m\u001B[0m\n\u001B[1;32m     35\u001B[0m                 \u001B[0m_best_motifs\u001B[0m \u001B[0;34m=\u001B[0m \u001B[0mmotifs\u001B[0m\u001B[0;34m[\u001B[0m\u001B[0;34m:\u001B[0m\u001B[0;34m]\u001B[0m\u001B[0;34m\u001B[0m\u001B[0;34m\u001B[0m\u001B[0m\n",
      "\u001B[0;32m~/Desktop/Bioinformatics/Bioinformatics/coursea_course/helper/course1_week4.py\u001B[0m in \u001B[0;36mmotifs_from_profile\u001B[0;34m(profile, dna)\u001B[0m\n\u001B[1;32m     18\u001B[0m \u001B[0;32mdef\u001B[0m \u001B[0mmotifs_from_profile\u001B[0m\u001B[0;34m(\u001B[0m\u001B[0mprofile\u001B[0m\u001B[0;34m:\u001B[0m \u001B[0mList\u001B[0m\u001B[0;34m[\u001B[0m\u001B[0mList\u001B[0m\u001B[0;34m[\u001B[0m\u001B[0mfloat\u001B[0m\u001B[0;34m]\u001B[0m\u001B[0;34m]\u001B[0m\u001B[0;34m,\u001B[0m \u001B[0mdna\u001B[0m\u001B[0;34m:\u001B[0m \u001B[0mList\u001B[0m\u001B[0;34m[\u001B[0m\u001B[0mstr\u001B[0m\u001B[0;34m]\u001B[0m\u001B[0;34m)\u001B[0m\u001B[0;34m:\u001B[0m\u001B[0;34m\u001B[0m\u001B[0;34m\u001B[0m\u001B[0m\n\u001B[1;32m     19\u001B[0m     \u001B[0mk\u001B[0m \u001B[0;34m=\u001B[0m \u001B[0mlen\u001B[0m\u001B[0;34m(\u001B[0m\u001B[0mprofile\u001B[0m\u001B[0;34m[\u001B[0m\u001B[0;36m0\u001B[0m\u001B[0;34m]\u001B[0m\u001B[0;34m)\u001B[0m\u001B[0;34m\u001B[0m\u001B[0;34m\u001B[0m\u001B[0m\n\u001B[0;32m---> 20\u001B[0;31m     \u001B[0;32mreturn\u001B[0m \u001B[0;34m[\u001B[0m\u001B[0mc1w3\u001B[0m\u001B[0;34m.\u001B[0m\u001B[0mprofile_most_probable_kmer\u001B[0m\u001B[0;34m(\u001B[0m\u001B[0m_dna\u001B[0m\u001B[0;34m,\u001B[0m \u001B[0mk\u001B[0m\u001B[0;34m,\u001B[0m \u001B[0mprofile\u001B[0m\u001B[0;34m)\u001B[0m \u001B[0;32mfor\u001B[0m \u001B[0m_dna\u001B[0m \u001B[0;32min\u001B[0m \u001B[0mdna\u001B[0m\u001B[0;34m]\u001B[0m\u001B[0;34m\u001B[0m\u001B[0;34m\u001B[0m\u001B[0m\n\u001B[0m\u001B[1;32m     21\u001B[0m \u001B[0;34m\u001B[0m\u001B[0m\n\u001B[1;32m     22\u001B[0m \u001B[0;34m\u001B[0m\u001B[0m\n",
      "\u001B[0;32m~/Desktop/Bioinformatics/Bioinformatics/coursea_course/helper/course1_week4.py\u001B[0m in \u001B[0;36m<listcomp>\u001B[0;34m(.0)\u001B[0m\n\u001B[1;32m     18\u001B[0m \u001B[0;32mdef\u001B[0m \u001B[0mmotifs_from_profile\u001B[0m\u001B[0;34m(\u001B[0m\u001B[0mprofile\u001B[0m\u001B[0;34m:\u001B[0m \u001B[0mList\u001B[0m\u001B[0;34m[\u001B[0m\u001B[0mList\u001B[0m\u001B[0;34m[\u001B[0m\u001B[0mfloat\u001B[0m\u001B[0;34m]\u001B[0m\u001B[0;34m]\u001B[0m\u001B[0;34m,\u001B[0m \u001B[0mdna\u001B[0m\u001B[0;34m:\u001B[0m \u001B[0mList\u001B[0m\u001B[0;34m[\u001B[0m\u001B[0mstr\u001B[0m\u001B[0;34m]\u001B[0m\u001B[0;34m)\u001B[0m\u001B[0;34m:\u001B[0m\u001B[0;34m\u001B[0m\u001B[0;34m\u001B[0m\u001B[0m\n\u001B[1;32m     19\u001B[0m     \u001B[0mk\u001B[0m \u001B[0;34m=\u001B[0m \u001B[0mlen\u001B[0m\u001B[0;34m(\u001B[0m\u001B[0mprofile\u001B[0m\u001B[0;34m[\u001B[0m\u001B[0;36m0\u001B[0m\u001B[0;34m]\u001B[0m\u001B[0;34m)\u001B[0m\u001B[0;34m\u001B[0m\u001B[0;34m\u001B[0m\u001B[0m\n\u001B[0;32m---> 20\u001B[0;31m     \u001B[0;32mreturn\u001B[0m \u001B[0;34m[\u001B[0m\u001B[0mc1w3\u001B[0m\u001B[0;34m.\u001B[0m\u001B[0mprofile_most_probable_kmer\u001B[0m\u001B[0;34m(\u001B[0m\u001B[0m_dna\u001B[0m\u001B[0;34m,\u001B[0m \u001B[0mk\u001B[0m\u001B[0;34m,\u001B[0m \u001B[0mprofile\u001B[0m\u001B[0;34m)\u001B[0m \u001B[0;32mfor\u001B[0m \u001B[0m_dna\u001B[0m \u001B[0;32min\u001B[0m \u001B[0mdna\u001B[0m\u001B[0;34m]\u001B[0m\u001B[0;34m\u001B[0m\u001B[0;34m\u001B[0m\u001B[0m\n\u001B[0m\u001B[1;32m     21\u001B[0m \u001B[0;34m\u001B[0m\u001B[0m\n\u001B[1;32m     22\u001B[0m \u001B[0;34m\u001B[0m\u001B[0m\n",
      "\u001B[0;32m~/Desktop/Bioinformatics/Bioinformatics/coursea_course/helper/course1_week3.py\u001B[0m in \u001B[0;36mprofile_most_probable_kmer\u001B[0;34m(dna, k, profile)\u001B[0m\n\u001B[1;32m     98\u001B[0m     \u001B[0;32mfor\u001B[0m \u001B[0mi\u001B[0m \u001B[0;32min\u001B[0m \u001B[0mrange\u001B[0m\u001B[0;34m(\u001B[0m\u001B[0mn\u001B[0m \u001B[0;34m-\u001B[0m \u001B[0mk\u001B[0m \u001B[0;34m+\u001B[0m \u001B[0;36m1\u001B[0m\u001B[0;34m)\u001B[0m\u001B[0;34m:\u001B[0m\u001B[0;34m\u001B[0m\u001B[0;34m\u001B[0m\u001B[0m\n\u001B[1;32m     99\u001B[0m         \u001B[0mpattern\u001B[0m \u001B[0;34m=\u001B[0m \u001B[0mdna\u001B[0m\u001B[0;34m[\u001B[0m\u001B[0mi\u001B[0m\u001B[0;34m:\u001B[0m \u001B[0mi\u001B[0m \u001B[0;34m+\u001B[0m \u001B[0mk\u001B[0m\u001B[0;34m]\u001B[0m\u001B[0;34m\u001B[0m\u001B[0;34m\u001B[0m\u001B[0m\n\u001B[0;32m--> 100\u001B[0;31m         \u001B[0mn_prob\u001B[0m \u001B[0;34m=\u001B[0m \u001B[0mft\u001B[0m\u001B[0;34m.\u001B[0m\u001B[0mreduce\u001B[0m\u001B[0;34m(\u001B[0m\u001B[0moperator\u001B[0m\u001B[0;34m.\u001B[0m\u001B[0mmul\u001B[0m\u001B[0;34m,\u001B[0m \u001B[0;34m[\u001B[0m\u001B[0mprofile\u001B[0m\u001B[0;34m[\u001B[0m\u001B[0mn_map\u001B[0m\u001B[0;34m[\u001B[0m\u001B[0mnucleotide\u001B[0m\u001B[0;34m]\u001B[0m\u001B[0;34m]\u001B[0m\u001B[0;34m[\u001B[0m\u001B[0mj\u001B[0m\u001B[0;34m]\u001B[0m \u001B[0;32mfor\u001B[0m \u001B[0mj\u001B[0m\u001B[0;34m,\u001B[0m \u001B[0mnucleotide\u001B[0m \u001B[0;32min\u001B[0m \u001B[0menumerate\u001B[0m\u001B[0;34m(\u001B[0m\u001B[0mpattern\u001B[0m\u001B[0;34m)\u001B[0m\u001B[0;34m]\u001B[0m\u001B[0;34m)\u001B[0m\u001B[0;34m\u001B[0m\u001B[0;34m\u001B[0m\u001B[0m\n\u001B[0m\u001B[1;32m    101\u001B[0m         \u001B[0;31m# print(pattern, n_prob)\u001B[0m\u001B[0;34m\u001B[0m\u001B[0;34m\u001B[0m\u001B[0m\n\u001B[1;32m    102\u001B[0m         \u001B[0;32mif\u001B[0m \u001B[0mn_prob\u001B[0m \u001B[0;34m>\u001B[0m \u001B[0mprob\u001B[0m\u001B[0;34m:\u001B[0m\u001B[0;34m\u001B[0m\u001B[0;34m\u001B[0m\u001B[0m\n",
      "\u001B[0;31mKeyboardInterrupt\u001B[0m: "
     ]
    }
   ],
   "source": [
    "for k in range(8, 13):\n",
    "    _res = c1w4.randomized_motif_search(DsoR, k=k, t=t)\n",
    "    _median = c1w3.median_string(_res, k=k)\n",
    "    _score_motif = c1w3.score(_res)\n",
    "    _score_median = c1w3.d(_median, _res)\n",
    "    print(f\"{k}\\t{_median}\\t{_score_median}\\t{_score_motif}\")"
   ],
   "metadata": {
    "collapsed": false
   }
  },
  {
   "cell_type": "code",
   "execution_count": 11,
   "outputs": [
    {
     "name": "stdout",
     "output_type": "stream",
     "text": [
      "1\tG\t3.57 seconds\n",
      "2\tCG\t4.50 seconds\n",
      "3\tCAG\t5.48 seconds\n",
      "4\tGGCC\t6.63 seconds\n",
      "5\tCGACG\t8.25 seconds\n",
      "6\tACGGCG\t9.50 seconds\n",
      "7\tTGGCCAC\t10.57 seconds\n",
      "8\tCCGGCGGG\t11.69 seconds\n",
      "9\tCCGACGGGA\t12.64 seconds\n",
      "10\tCCGACGGGCC\t13.93 seconds\n",
      "11\tGACTTCCGGCC\t14.93 seconds\n",
      "12\tGACCAACGGCCC\t14.66 seconds\n"
     ]
    }
   ],
   "source": [
    "for i in range(6, 13):\n",
    "    time0 = time.time()\n",
    "    result = c1w4.randomized_motif_search(DsoR, k=i, t=len(DsoR))\n",
    "    _median = c1w3.find_consensus(result)\n",
    "    time1 = time.time()\n",
    "    print(f\"{i}\\t{_median}\\t{time1 - time0:.2f} seconds\")"
   ],
   "metadata": {
    "collapsed": false
   }
  },
  {
   "cell_type": "code",
   "execution_count": 15,
   "outputs": [
    {
     "name": "stdout",
     "output_type": "stream",
     "text": [
      "k=20\tCGGGACCTACGTCCCTAGCC\tscore=55\n"
     ]
    }
   ],
   "source": [
    "k = 20\n",
    "motifs = c1w4.gibbs_sampler(DsoR, k=k, t=len(DsoR), N=2000)\n",
    "consensus = c1w3.find_consensus(motifs)\n",
    "score = c1w3.score(motifs)\n",
    "\n",
    "print(f\"{k=}\\t{consensus}\\t{score=}\")"
   ],
   "metadata": {
    "collapsed": false
   }
  },
  {
   "cell_type": "code",
   "execution_count": 16,
   "outputs": [
    {
     "data": {
      "text/plain": "['GTT', 'GTT', 'GGA', 'GTT']"
     },
     "execution_count": 16,
     "metadata": {},
     "output_type": "execute_result"
    }
   ],
   "source": [
    "_dna = [\n",
    "    \"TGACGTTC\",\n",
    "    \"TAAGAGTT\",\n",
    "    \"GGACGAAA\",\n",
    "    \"CTGTTCGC\",\n",
    "]\n",
    "\n",
    "c1w4.randomized_motif_search(_dna, 3, len(_dna))"
   ],
   "metadata": {
    "collapsed": false
   }
  },
  {
   "cell_type": "code",
   "execution_count": 18,
   "outputs": [
    {
     "data": {
      "text/plain": "['TGA', 'TAA', 'GGA', 'TGT']"
     },
     "execution_count": 18,
     "metadata": {},
     "output_type": "execute_result"
    }
   ],
   "source": [
    "_random_motifs = [\n",
    "    \"TGA\",\n",
    "    \"GTT\",\n",
    "    \"GAA\",\n",
    "    \"TGT\",\n",
    "]\n",
    "\n",
    "c1w4.motifs_from_profile(c1w3.Profile(_random_motifs, laplace=True), _dna)"
   ],
   "metadata": {
    "collapsed": false
   }
  },
  {
   "cell_type": "code",
   "execution_count": null,
   "outputs": [],
   "source": [],
   "metadata": {
    "collapsed": false
   }
  }
 ],
 "metadata": {
  "kernelspec": {
   "display_name": "Python 3",
   "language": "python",
   "name": "python3"
  },
  "language_info": {
   "codemirror_mode": {
    "name": "ipython",
    "version": 2
   },
   "file_extension": ".py",
   "mimetype": "text/x-python",
   "name": "python",
   "nbconvert_exporter": "python",
   "pygments_lexer": "ipython2",
   "version": "2.7.6"
  }
 },
 "nbformat": 4,
 "nbformat_minor": 0
}
