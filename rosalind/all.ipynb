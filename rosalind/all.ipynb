{
 "cells": [
  {
   "cell_type": "code",
   "execution_count": 12,
   "metadata": {
    "collapsed": true
   },
   "outputs": [],
   "source": [
    "file_path = \"rosalind_revc (1).txt\""
   ]
  },
  {
   "cell_type": "code",
   "execution_count": 13,
   "outputs": [
    {
     "name": "stdout",
     "output_type": "stream",
     "text": [
      "\n",
      "CATCTAGGGAGTTGGGACGGCTCGCACGTCAATCGAGCGTTCACGCATCCGTTTCTTACAACAAACTATTTTGAAGGTTATTGAGCATGCTTAGCTTAGTGTACTAGCGGTATCATGGCCCCAACAAACGTGAAATATTGGATGAAATGGGCGACAGAATAGATTCTACGCATGTCCGTACACTTGTTTTCTGAGTACCGAGCAGCGAACAAGGTGCCACTTATGCTGCATCTCCCTTTGAGATCGATTTCCTCTGATATTGCAAGGGCAAAGCCATCTCGATGTGGTCTGCACTGAAGAAACAGTCCCCTCGCGCCACCAGTACAGAACTCCCGTAGACCTGCGTGCCAGTCGGGGGGTCACGAAGCCACAGCCCAGGAATTTTATGGGCATTCGTCATATGTACTTAATGATCCCCGTACATTGAGATATGCATTACGCAGATACCGGAACTGGACGTGATGTATCAGTAATCACTTCAGATATTCCTGTATGGGTCGGTTACAATGATAAAAGTATAGCCGGACAGGGACCCCGCTGCCACGTGCATGAGTAACTCTCTGCTGTGCATTAACTACCTCGAGGTGTAGAGAAACCCTCGACACGTCGACTTGAGCTTAGATCCCATTTTTGCCTTGTGATCCGAGGGTGCAGCCGCTACCATGTGGTTGAGCCACGATCTACGTCAAGCCAACCCCAGAGTGCGCACATCTGGAGCAAAGCACCCTTTTAGTCTCAGAACCTTGTATCTTCCACTCGGTGTGTTCAGTTTTGAAGCTCTTTTGCATGGGGTAATTTGTGCTGTTAGGTTGGTGTC\n"
     ]
    }
   ],
   "source": [
    "with open(file_path) as f:\n",
    "    lines = f.readlines()\n",
    "    line = lines[0]\n",
    "\n",
    "    reversed_line = line[::-1]\n",
    "\n",
    "    my_table = reversed_line.maketrans(\"ATGC\", \"TACG\")\n",
    "\n",
    "    c_dna = reversed_line.translate(my_table)\n",
    "\n",
    "    print(c_dna)"
   ],
   "metadata": {
    "collapsed": false,
    "pycharm": {
     "name": "#%%\n"
    }
   }
  },
  {
   "cell_type": "code",
   "execution_count": 42,
   "outputs": [],
   "source": [
    "file_path = \"rosalind_fib.txt\""
   ],
   "metadata": {
    "collapsed": false,
    "pycharm": {
     "name": "#%%\n"
    }
   }
  },
  {
   "cell_type": "code",
   "execution_count": 43,
   "outputs": [
    {
     "name": "stdout",
     "output_type": "stream",
     "text": [
      "40238153982301\n"
     ]
    }
   ],
   "source": [
    "def fibonacci_rabbits(n: int, k :int) -> int:\n",
    "    _t = [1, 1]\n",
    "\n",
    "    for _i in range(2, n):\n",
    "        _t.append(t[_i - 1] + _t[_i - 2] * k)\n",
    "\n",
    "    return _t[-1]\n",
    "\n",
    "\n",
    "with open(file_path) as f:\n",
    "    lines = f.readlines()\n",
    "    line = lines[0]\n",
    "\n",
    "    _n = int(line.split()[0])\n",
    "    _k = int(line.split()[1])\n",
    "\n",
    "    print(fibonacci_rabbits(_n, _k))"
   ],
   "metadata": {
    "collapsed": false,
    "pycharm": {
     "name": "#%%\n"
    }
   }
  },
  {
   "cell_type": "code",
   "execution_count": 65,
   "outputs": [],
   "source": [
    "file_path = \"rosalind_fibd.txt\""
   ],
   "metadata": {
    "collapsed": false,
    "pycharm": {
     "name": "#%%\n"
    }
   }
  },
  {
   "cell_type": "code",
   "execution_count": 74,
   "outputs": [
    {
     "name": "stdout",
     "output_type": "stream",
     "text": [
      "51159459138167757395\n"
     ]
    }
   ],
   "source": [
    "with open(file_path) as f:\n",
    "    line = f.readlines()[0]\n",
    "\n",
    "    # _n = int(line.split()[0])\n",
    "    # m = int(line.split()[1])\n",
    "\n",
    "    _n = 96\n",
    "    m = 17\n",
    "\n",
    "    rabbits = [1, 1]\n",
    "\n",
    "    for i in range(2, _n):\n",
    "        rabbits.append(rabbits[-2] + rabbits[-1])\n",
    "\n",
    "        if i == m:\n",
    "            rabbits[i] -= 1\n",
    "        elif i > m:\n",
    "            rabbits[i] -= rabbits[i - m - 1]\n",
    "\n",
    "    print(rabbits[-1])"
   ],
   "metadata": {
    "collapsed": false,
    "pycharm": {
     "name": "#%%\n"
    }
   }
  },
  {
   "cell_type": "code",
   "execution_count": null,
   "outputs": [],
   "source": [],
   "metadata": {
    "collapsed": false,
    "pycharm": {
     "name": "#%%\n"
    }
   }
  }
 ],
 "metadata": {
  "kernelspec": {
   "display_name": "Python 3",
   "language": "python",
   "name": "python3"
  },
  "language_info": {
   "codemirror_mode": {
    "name": "ipython",
    "version": 2
   },
   "file_extension": ".py",
   "mimetype": "text/x-python",
   "name": "python",
   "nbconvert_exporter": "python",
   "pygments_lexer": "ipython2",
   "version": "2.7.6"
  }
 },
 "nbformat": 4,
 "nbformat_minor": 0
}